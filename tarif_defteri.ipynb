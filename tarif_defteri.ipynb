{
 "cells": [
  {
   "cell_type": "code",
   "execution_count": null,
   "metadata": {},
   "outputs": [],
   "source": [
    "print('Kodyazar: Tugba Akan')\n",
    "print('\\n')      \n",
    "print('Tarif defteri: Tarif defterinizin dijital hali')\n",
    "print('Tariflerinizi tek bir yerde, kategorilerine göre saklayabilirsiniz.')\n",
    "print('Yeni tarifler ekleyebilir, dilediğiniz kategorideki tarifleri görüntüleyebilirsiniz.')\n",
    "\n",
    "#Tarifler şu adresten alındı: https://www.nefisyemektarifleri.com/\n",
    "\n",
    "#Versiyon 1 : Kategoriler: Et yemekleri, Tavuk yemekleri, Sebze yemekleri\n",
    "print('\\n')\n",
    "print('Yeni bir tarif eklemek istediğinizde, tarifin olduğu text dosyasını kodun çalışacağı klasöre koyun')\n",
    "print('Kodu çalıştırdığınızda klasörde bulunan tüm text dosyalarını, yeni eklediğiniz dahil, okur.')\n",
    "print('Jupyter notebook olarak çalıştırabilir')\n",
    "print('ya da komut satırından py dosyasını çalıştırabilirsiniz.')\n",
    "\n",
    "#Python 3\n",
    "#Bu kodda kullanılan kavramlar şunlardır: \n",
    "#text dosyası yükleme ve metin madeciliği\n",
    "#Nesne yönelimli programlama\n",
    "#Exception handling"
   ]
  },
  {
   "cell_type": "code",
   "execution_count": null,
   "metadata": {},
   "outputs": [],
   "source": [
    "#Kategori sınıfı yaratılıyor\n",
    "class Category(object):\n",
    "    def __init__(self, ID, name, keywords):\n",
    "        self.ID = ID\n",
    "        self.name = name\n",
    "        self.keywords = keywords"
   ]
  },
  {
   "cell_type": "code",
   "execution_count": 9,
   "metadata": {},
   "outputs": [],
   "source": [
    "cate1 = Category( ID = 1, name='Et yemekleri', keywords=[' et ', ' et\\n', ' eti ', ' eti\\n', 'kıyma',  'kıyması', 'kıyması'])\n",
    "cate2 = Category( ID = 2, name='Tavuk yemekleri', keywords= ['tavuk'])\n",
    "cate3 = Category( ID = 3, name='Sebze yemekleri', keywords= ['patlıcan', 'semiz', 'lahana', 'kabak'] )"
   ]
  },
  {
   "cell_type": "code",
   "execution_count": 3,
   "metadata": {},
   "outputs": [],
   "source": [
    "categories = [cate1, cate2, cate3 ]"
   ]
  },
  {
   "cell_type": "code",
   "execution_count": 4,
   "metadata": {},
   "outputs": [],
   "source": [
    "#Tarif sınıfı yaratılıyor\n",
    "class Recipe(object):\n",
    "    def __init__(self,name, ingredients, categories):\n",
    "        self.name = name\n",
    "        self.ingredients = ingredients\n",
    "        self.category = []\n",
    "        self.setCategory(categories)\n",
    "        \n",
    "    #tarifin kategorisi bulunuyor\n",
    "    def setCategory(self, categories):\n",
    "        for cate in categories:\n",
    "            for ingr in self.ingredients:\n",
    "                if any(kw in ingr for kw in cate.keywords):\n",
    "                    self.category.append(cate.name)\n",
    "                    break"
   ]
  },
  {
   "cell_type": "code",
   "execution_count": null,
   "metadata": {},
   "outputs": [],
   "source": [
    "#eklemek istediginiz tarifi text dosyasına kaydedin\n",
    "#en fazla 20 tarif olacagini varsaydik\n",
    "recipes = []\n",
    "for i in range(1,20):\n",
    "    try:\n",
    "        with open('tarif' + str(i) + '.txt', 'r') as f:\n",
    "            new_recipe = f.readlines()\n",
    "            rec = Recipe(name=new_recipe[0], ingredients = new_recipe[4::], categories = categories)\n",
    "            recipes.append(rec)\n",
    "    except IOError:\n",
    "        #Dosyanın olup olmadıgını kontrol eder\n",
    "        print( \"Hata: dosya bulunamadi\" )\n",
    "    else:\n",
    "        print( \"Dosya basariyla yuklendi\" )"
   ]
  },
  {
   "cell_type": "code",
   "execution_count": null,
   "metadata": {},
   "outputs": [],
   "source": [
    "#Kategorileri goruntule\n",
    "for item in categories:\n",
    "    print(item.name)"
   ]
  },
  {
   "cell_type": "code",
   "execution_count": null,
   "metadata": {},
   "outputs": [],
   "source": [
    "#Tarif defterindeki tüm yemek isimlerini ve kategorilerini goruntule\n",
    "for item in recipes:\n",
    "    print(item.name)\n",
    "    print(item.category)"
   ]
  },
  {
   "cell_type": "code",
   "execution_count": null,
   "metadata": {},
   "outputs": [],
   "source": [
    "#Sectigin bir kategorideki tarifleri goruntule\n",
    "print('Goruntulemek istediginiz kategorinin numarasını yazın:')\n",
    "for item in categories:\n",
    "    print( str(item.ID) + ' for ' + item.name)\n",
    "inp_cate_ID = input('')\n",
    "for item in categories:\n",
    "    if item.ID == int(inp_cate_ID):\n",
    "        print(item.name)\n",
    "        for item2 in recipes:\n",
    "            for item3 in item2.category:\n",
    "                if item3 == item.name:\n",
    "                    print(item2.name)"
   ]
  },
  {
   "cell_type": "code",
   "execution_count": null,
   "metadata": {},
   "outputs": [],
   "source": []
  },
  {
   "cell_type": "code",
   "execution_count": null,
   "metadata": {},
   "outputs": [],
   "source": []
  }
 ],
 "metadata": {
  "kernelspec": {
   "display_name": "Python 3",
   "language": "python",
   "name": "python3"
  },
  "language_info": {
   "codemirror_mode": {
    "name": "ipython",
    "version": 3
   },
   "file_extension": ".py",
   "mimetype": "text/x-python",
   "name": "python",
   "nbconvert_exporter": "python",
   "pygments_lexer": "ipython3",
   "version": "3.6.5"
  }
 },
 "nbformat": 4,
 "nbformat_minor": 2
}
