{
 "cells": [
  {
   "cell_type": "markdown",
   "metadata": {},
   "source": [
    "Recipe Journal\n",
    "A journal keeping your recipes in categories by the ingredients, letting you enter a new recipe, listing the recipes of the desired category"
   ]
  },
  {
   "cell_type": "markdown",
   "metadata": {},
   "source": [
    "Version 1 : The categories are in Turkish: 'Et yemekleri, Tavuk yemekleri, Sebze yemekleri'"
   ]
  },
  {
   "cell_type": "code",
   "execution_count": 1,
   "metadata": {},
   "outputs": [],
   "source": [
    "#create a class for categories\n",
    "class Category(object):\n",
    "    def __init__(self, ID, name, keywords):\n",
    "        self.ID = ID\n",
    "        self.name = name\n",
    "        self.keywords = keywords"
   ]
  },
  {
   "cell_type": "code",
   "execution_count": 2,
   "metadata": {},
   "outputs": [],
   "source": [
    "cate1 = Category( ID = 1, name='Et yemekleri', keywords=[' et ', ' et\\n', ' eti ', ' eti\\n', 'kıyma',  'kıyması', 'kıyması'])\n",
    "cate2 = Category( ID = 2, name='Tavuk yemekleri', keywords= ['tavuk'])\n",
    "cate3 = Category( ID = 3, name='Sebze yemekleri', keywords= ['patlıcan', 'semiz', 'lahana', 'kabak'] )"
   ]
  },
  {
   "cell_type": "code",
   "execution_count": 3,
   "metadata": {},
   "outputs": [],
   "source": [
    "categories = [cate1, cate2, cate3 ]"
   ]
  },
  {
   "cell_type": "code",
   "execution_count": 4,
   "metadata": {},
   "outputs": [],
   "source": [
    "#create a class for recipes\n",
    "class Recipe(object):\n",
    "    def __init__(self,name, ingredients, categories):\n",
    "        self.name = name\n",
    "        self.ingredients = ingredients\n",
    "        self.category = []\n",
    "        self.setCategory(categories)\n",
    "        \n",
    "    #method to set the category of the recipe\n",
    "    def setCategory(self, categories):\n",
    "        for cate in categories:\n",
    "            for ingr in self.ingredients:\n",
    "                if any(kw in ingr for kw in cate.keywords):\n",
    "                    self.category.append(cate.name)\n",
    "                    break"
   ]
  },
  {
   "cell_type": "code",
   "execution_count": 5,
   "metadata": {},
   "outputs": [
    {
     "name": "stdout",
     "output_type": "stream",
     "text": [
      "Content written successfully\n",
      "Content written successfully\n",
      "Content written successfully\n",
      "Content written successfully\n",
      "Content written successfully\n",
      "Content written successfully\n",
      "Content written successfully\n",
      "Content written successfully\n",
      "Content written successfully\n",
      "Content written successfully\n",
      "Content written successfully\n",
      "Content written successfully\n",
      "Error: Could not find file or read data\n",
      "Error: Could not find file or read data\n",
      "Error: Could not find file or read data\n",
      "Error: Could not find file or read data\n",
      "Error: Could not find file or read data\n",
      "Error: Could not find file or read data\n",
      "Error: Could not find file or read data\n"
     ]
    }
   ],
   "source": [
    "#enter a new recipe as a txt document\n",
    "#we assume max 20 recipes will be given\n",
    "recipes = []\n",
    "for i in range(1,20):\n",
    "    try:\n",
    "        with open('tarif' + str(i) + '.txt', 'r') as f:\n",
    "            new_recipe = f.readlines()\n",
    "            rec = Recipe(name=new_recipe[0], ingredients = new_recipe[4::], categories = categories)\n",
    "            recipes.append(rec)\n",
    "    except IOError:\n",
    "        # This will only check for an IOError exception and then execute this print statement\n",
    "        print( \"Error: Could not find file or read data\" )\n",
    "    else:\n",
    "        print( \"Content written successfully\" )"
   ]
  },
  {
   "cell_type": "code",
   "execution_count": 6,
   "metadata": {},
   "outputs": [
    {
     "name": "stdout",
     "output_type": "stream",
     "text": [
      "Et yemekleri\n",
      "Tavuk yemekleri\n",
      "Sebze yemekleri\n"
     ]
    }
   ],
   "source": [
    "#print the categories\n",
    "for item in categories:\n",
    "    print(item.name)"
   ]
  },
  {
   "cell_type": "code",
   "execution_count": 7,
   "metadata": {},
   "outputs": [
    {
     "name": "stdout",
     "output_type": "stream",
     "text": [
      "Saç Kavurma\n",
      "\n",
      "['Et yemekleri']\n",
      "Karnıyarık\n",
      "\n",
      "['Et yemekleri', 'Sebze yemekleri']\n",
      "Patlıcanlı Tepsi Kebabı\n",
      "\n",
      "['Et yemekleri', 'Sebze yemekleri']\n",
      "Hardallı Tavuk\n",
      "\n",
      "['Tavuk yemekleri']\n",
      "Fırında Terbiyeli Patatesli Tavuk\n",
      "\n",
      "['Tavuk yemekleri']\n",
      "Tavuk Haşlama\n",
      "\n",
      "['Tavuk yemekleri']\n",
      "Semizotu Yemeği (Hafif Ve Lezzetli)\n",
      "\n",
      "['Sebze yemekleri']\n",
      "Zeytinyağlı Kabak Kavurması\n",
      "\n",
      "['Sebze yemekleri']\n",
      "Fırında Kolay Sebze Kebabı\n",
      "\n",
      "['Sebze yemekleri']\n",
      "Kara Lahana Diblesi\n",
      "\n",
      "['Sebze yemekleri']\n",
      "Pratik Tava Böreği\n",
      "\n",
      "[]\n",
      "Yoğurtlu İçli Köfte (Resimli)\n",
      "\n",
      "['Et yemekleri']\n"
     ]
    }
   ],
   "source": [
    "#print the name and the categories of the recipes\n",
    "for item in recipes:\n",
    "    print(item.name)\n",
    "    print(item.category)"
   ]
  },
  {
   "cell_type": "code",
   "execution_count": 8,
   "metadata": {},
   "outputs": [
    {
     "name": "stdout",
     "output_type": "stream",
     "text": [
      "Type the number of the category you wish to be listed\n",
      "1 for Et yemekleri\n",
      "2 for Tavuk yemekleri\n",
      "3 for Sebze yemekleri\n",
      "1\n",
      "Et yemekleri\n",
      "Saç Kavurma\n",
      "\n",
      "Karnıyarık\n",
      "\n",
      "Patlıcanlı Tepsi Kebabı\n",
      "\n",
      "Yoğurtlu İçli Köfte (Resimli)\n",
      "\n"
     ]
    }
   ],
   "source": [
    "#list the recipes in the desired category\n",
    "print('Type the number of the category you wish to be listed')\n",
    "for item in categories:\n",
    "    print( str(item.ID) + ' for ' + item.name)\n",
    "inp_cate_ID = input('')\n",
    "for item in categories:\n",
    "    if item.ID == int(inp_cate_ID):\n",
    "        print(item.name)\n",
    "        for item2 in recipes:\n",
    "            for item3 in item2.category:\n",
    "                if item3 == item.name:\n",
    "                    print(item2.name)"
   ]
  },
  {
   "cell_type": "code",
   "execution_count": null,
   "metadata": {},
   "outputs": [],
   "source": []
  },
  {
   "cell_type": "code",
   "execution_count": null,
   "metadata": {},
   "outputs": [],
   "source": []
  }
 ],
 "metadata": {
  "kernelspec": {
   "display_name": "Python 3",
   "language": "python",
   "name": "python3"
  },
  "language_info": {
   "codemirror_mode": {
    "name": "ipython",
    "version": 3
   },
   "file_extension": ".py",
   "mimetype": "text/x-python",
   "name": "python",
   "nbconvert_exporter": "python",
   "pygments_lexer": "ipython3",
   "version": "3.6.5"
  }
 },
 "nbformat": 4,
 "nbformat_minor": 2
}
