{
 "cells": [
  {
   "cell_type": "markdown",
   "metadata": {},
   "source": [
    "Recipe Creator and Manager\n",
    "Create a recipe class with ingredients\n",
    "and put them in a recipe manager program that organizes them into categories like deserts, main courses\n",
    "or by ingredients like chicken, beef, soups, pies etc."
   ]
  },
  {
   "cell_type": "code",
   "execution_count": 1,
   "metadata": {},
   "outputs": [],
   "source": [
    "#create a class for categories\n",
    "class Category(object):\n",
    "    def __init__(self, name, keywords):\n",
    "        self.name = name\n",
    "        self.keywords = keywords"
   ]
  },
  {
   "cell_type": "code",
   "execution_count": 4,
   "metadata": {},
   "outputs": [],
   "source": [
    "cate1 = Category( name='Et yemekleri', keywords=[' et ',' eti ', 'kıyma', 'kıyması'])\n",
    "cate2 = Category( name='Tavuk yemekleri', keywords= ['tavuk'])\n",
    "cate3 = Category( name='Sebze yemekleri', keywords= ['semiz', 'lahana', 'kabak'] )\n",
    "cate4 = Category( name='Diğer', keywords= [] )"
   ]
  },
  {
   "cell_type": "code",
   "execution_count": 5,
   "metadata": {},
   "outputs": [],
   "source": [
    "categories = [cate1, cate2, cate3, cate4 ]"
   ]
  },
  {
   "cell_type": "code",
   "execution_count": 6,
   "metadata": {},
   "outputs": [],
   "source": [
    "#create a class for recipes\n",
    "class Recipe(object):\n",
    "    def __init__(self,name, ingredients, categories):\n",
    "        self.name = name\n",
    "        self.ingredients = ingredients\n",
    "        self.setCategory(categories)\n",
    "        \n",
    "    #method to set the category of the recipe\n",
    "    def setCategory(self, categories):\n",
    "        for cate in categories:\n",
    "            for ingr in self.ingredients:\n",
    "                if any(kw in ingr for kw in cate.keywords):\n",
    "                    self.category = cate\n",
    "                else:\n",
    "                    for cate in categories:\n",
    "                        if cate.name == 'Diğer':\n",
    "                            self.category = cate"
   ]
  },
  {
   "cell_type": "code",
   "execution_count": 7,
   "metadata": {},
   "outputs": [],
   "source": [
    "rec1 = Recipe(name='Saç Kavurma', ingredients = [ 'Yarım kg kırmızı et (10 gr kadar kuyruk yağı)' , '3 adet orta boy kuru soğan', \n",
    "                '3 adet domatest', '5 -6 adet yeşil sivri biber', 'Yarım yemek kaşığı domates salçası', \n",
    "                'Pul biber', 'Kara biber' ], categories = categories)"
   ]
  },
  {
   "cell_type": "code",
   "execution_count": 8,
   "metadata": {},
   "outputs": [],
   "source": [
    "rec2 = Recipe(name='Karnıyarık', ingredients = [ '6-7 adet patlıcan', '250 gr kıyma', '1 soğan', '1 sarımsak', '2 orta boy domates', \n",
    "                '1 yemek kaşığı zeytinyağı', '1 yemek kaşığı salça', 'Karabiber', 'Kimyon', 'Pul biber' ], categories = categories)"
   ]
  },
  {
   "cell_type": "code",
   "execution_count": 9,
   "metadata": {},
   "outputs": [],
   "source": [
    "rec3 = Recipe(name='Patlıcanlı Tepsi Kebabı',ingredients = [ '3 tane topak patlıcan', 'Yarım kilo dana kıyma', '3 tane küçük soğan', '2 diş sarımsak', '1 çay kaşığı pul biber',\n",
    "            'Yarım çay kaşığı karabiber', 'kimyon ve toz biber', '1 çay bardağı su', '1 domates ve 2 yeşil biber (üzeri için)', \n",
    "            '1 tatlı kaşığı biber salçası' ], categories = categories)"
   ]
  },
  {
   "cell_type": "code",
   "execution_count": 10,
   "metadata": {},
   "outputs": [],
   "source": [
    "rec4 = Recipe(name='Hardallı Tavuk',ingredients = [ '2 adet haşlanmış tavuk göğsü', '1 yemek kaşığı hardal', '1 çay kaşığı biber salçası',\n",
    "                'Tuz, karabiber ve köri', '1 yemek kaşığından az tereyağı' ], categories = categories)"
   ]
  },
  {
   "cell_type": "code",
   "execution_count": 11,
   "metadata": {},
   "outputs": [],
   "source": [
    "rec5 = Recipe(name='Fırında Terbiyeli Patatesli Tavuk', ingredients = [ '8-10 tavuk bageti( tavuk butu)', '6-7 patates', 'Tavuk sosu için:', \n",
    "'1 yemek kaşığı yoğurt', '3 diş sarımsak', '3 yemek kaşığı sıvı yağ', 'Karabiber', \n",
    "'Kekik', 'Kırmızı pul biber', '1 çay kaşığı köfte baharatı', '1 tatlı kaşığı biber salçası',\n",
    "                'Tuz', 'İsteğe bağlı 1 çay kaşığı yenibahar'], categories = categories)"
   ]
  },
  {
   "cell_type": "code",
   "execution_count": 12,
   "metadata": {},
   "outputs": [],
   "source": [
    "rec6 = Recipe(name='Tavuk Haşlama', ingredients = [ '1 kg derisiz kemiksiz tavuk pirzola', '1 adet büyük boy soğan', '2 adet patates', \n",
    "                '2 adet orta boy havuç', 'Sıvıyağ', 'Tuz', '1 litre su' ] , categories = categories)"
   ]
  },
  {
   "cell_type": "code",
   "execution_count": 13,
   "metadata": {},
   "outputs": [],
   "source": [
    "rec7 = Recipe(name='Semizotu Yemeği (Hafif Ve Lezzetli)',ingredients = [ '1 bağ semizotu', '1 adet kuru soğan', '1 yemek kaşığı salça', 'Yarım çay bardağı sıvı yağ', \n",
    "                '2 yemek kaşığı kaşığı bulgur', '1,5 su bardağı su', '1 tatlı kaşığı tuz', 'Üzeri için:', \n",
    "                '3 diş sarımsak', '1 kase yoğurt' ], categories = categories)"
   ]
  },
  {
   "cell_type": "code",
   "execution_count": 14,
   "metadata": {},
   "outputs": [],
   "source": [
    "rec8 = Recipe(name='Zeytinyağlı Kabak Kavurması', ingredients = [ '3 tane kabak', '3 tane domates', '4 tane yeşil biber', \n",
    "                '2 tane orta boy soğan', '1 çay bardağı zeytinyağı yağı', '2 diş sarımsak', '1 tatlı kaşığı salça',\n",
    "                                                                 'Tuz, kırmızı biber, karabiber' ], categories = categories)"
   ]
  },
  {
   "cell_type": "code",
   "execution_count": 15,
   "metadata": {},
   "outputs": [],
   "source": [
    "rec9 = Recipe(name= 'Fırında Kolay Sebze Kebabı', ingredients = [ '1 adet kabak', '2 orta boy patates', '1 büyük patlıcan', \n",
    "             '2 orta boy domates', '2 yeşil biber',  '1 kırmızı biber', '1-2 diş sarımsak', '1 tatlı kaşığı biber salçası', \n",
    "              '1 tatlı kaşığı domates salçası', 'Tuz', '3 yemek kaşığı sıvı yağ', 'Karabiber', 'Kimyon', 'Kırmızı toz biber', \n",
    "                                                                 'Kekik' ], categories = categories)"
   ]
  },
  {
   "cell_type": "code",
   "execution_count": 16,
   "metadata": {},
   "outputs": [],
   "source": [
    "rec10 = Recipe(name='Kara Lahana Diblesi', ingredients = [ '1 kg kara lahana', '2 orta boy soğan', 'Yarım çay bardağı pirinç', 'Üzerine;', '3 yemek kaşığı terayağı',\n",
    "                '1 yemek kaşığı sıvı yağ', 'Pulbiber, tuz' ], categories = categories)"
   ]
  },
  {
   "cell_type": "code",
   "execution_count": 17,
   "metadata": {},
   "outputs": [],
   "source": [
    "rec11 = Recipe(name= 'Pratik Tava Böreği', ingredients = [ 'Parça yufka (bende sigara böreklik üçgen yufka vardı 16 tane onları kullandım)', \n",
    "         '1 kase beyaz beynir', 'Yarım kase kıyılmış maydanoz', 'Sosu için;', '1 çay bardağı yağ', '1 çay bardağı süt',\n",
    "          '1 yumurta( isteyen koymayabilir)'], categories = categories)"
   ]
  },
  {
   "cell_type": "code",
   "execution_count": 19,
   "metadata": {},
   "outputs": [
    {
     "data": {
      "text/plain": [
       "'Diğer'"
      ]
     },
     "execution_count": 19,
     "metadata": {},
     "output_type": "execute_result"
    }
   ],
   "source": [
    "rec11.category.name"
   ]
  },
  {
   "cell_type": "code",
   "execution_count": null,
   "metadata": {},
   "outputs": [],
   "source": []
  }
 ],
 "metadata": {
  "kernelspec": {
   "display_name": "Python 3",
   "language": "python",
   "name": "python3"
  },
  "language_info": {
   "codemirror_mode": {
    "name": "ipython",
    "version": 3
   },
   "file_extension": ".py",
   "mimetype": "text/x-python",
   "name": "python",
   "nbconvert_exporter": "python",
   "pygments_lexer": "ipython3",
   "version": "3.6.5"
  }
 },
 "nbformat": 4,
 "nbformat_minor": 2
}
