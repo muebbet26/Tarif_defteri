{
 "cells": [
  {
   "cell_type": "markdown",
   "metadata": {},
   "source": [
    "Recipe Creator and Manager\n",
    "Create a recipe class with ingredients\n",
    "and put them in a recipe manager program that organizes them into categories like deserts, main courses\n",
    "or by ingredients like chicken, beef, soups, pies etc."
   ]
  },
  {
   "cell_type": "code",
   "execution_count": 1,
   "metadata": {},
   "outputs": [
    {
     "name": "stdout",
     "output_type": "stream",
     "text": [
      "Hello World\n"
     ]
    }
   ],
   "source": [
    "x = 'Hello World'\n",
    "print(x)"
   ]
  },
  {
   "cell_type": "code",
   "execution_count": 2,
   "metadata": {},
   "outputs": [],
   "source": [
    "dict_t = {}"
   ]
  },
  {
   "cell_type": "code",
   "execution_count": 3,
   "metadata": {},
   "outputs": [],
   "source": [
    "recipe_name = 'Saç Kavurma'\n",
    "ingredient_list = [ 'Yarım kg kırmızı et (10 gr kadar kuyruk yağı)' , '3 adet orta boy kuru soğan', \n",
    "                '3 adet domatest', '5 -6 adet yeşil sivri biber', 'Yarım yemek kaşığı domates salçası', \n",
    "                'Pul biber', 'Kara biber' ]"
   ]
  },
  {
   "cell_type": "code",
   "execution_count": 10,
   "metadata": {
    "collapsed": true
   },
   "outputs": [],
   "source": [
    "recipe_name = 'Karnıyarık'\n",
    "ingredient_list = [ '6-7 adet patlıcan', '250 gr kıyma', '1 soğan', '1 sarımsak', '2 orta boy domates', \n",
    "                '1 yemek kaşığı zeytinyağı', '1 yemek kaşığı salça', 'Karabiber', 'Kimyon', 'Pul biber' ]"
   ]
  },
  {
   "cell_type": "code",
   "execution_count": 18,
   "metadata": {
    "collapsed": true
   },
   "outputs": [],
   "source": [
    "recipe_name =  'Patlıcanlı Tepsi Kebabı'\n",
    "ingredient_list = [ '3 tane topak patlıcan', 'Yarım kilo dana kıyma', '3 tane küçük soğan', '2 diş sarımsak', '1 çay kaşığı pul biber',\n",
    "            'Yarım çay kaşığı karabiber', 'kimyon ve toz biber', '1 çay bardağı su', '1 domates ve 2 yeşil biber (üzeri için)', \n",
    "            '1 tatlı kaşığı biber salçası' ]"
   ]
  },
  {
   "cell_type": "code",
   "execution_count": 21,
   "metadata": {
    "collapsed": true
   },
   "outputs": [],
   "source": [
    "recipe_name = 'Hardallı Tavuk'\n",
    "ingredient_list = [ '2 adet haşlanmış tavuk göğsü', '1 yemek kaşığı hardal', '1 çay kaşığı biber salçası',\n",
    "                'Tuz, karabiber ve köri', '1 yemek kaşığından az tereyağı' ]"
   ]
  },
  {
   "cell_type": "code",
   "execution_count": 24,
   "metadata": {
    "collapsed": true
   },
   "outputs": [],
   "source": [
    "recipe_name= 'Fırında Terbiyeli Patatesli Tavuk'\n",
    "ingredient_list = [ '8-10 tavuk bageti( tavuk butu)', '6-7 patates', 'Tavuk sosu için:', \n",
    "'1 yemek kaşığı yoğurt', '3 diş sarımsak', '3 yemek kaşığı sıvı yağ', 'Karabiber', \n",
    "'Kekik', 'Kırmızı pul biber', '1 çay kaşığı köfte baharatı', '1 tatlı kaşığı biber salçası',\n",
    "                'Tuz', 'İsteğe bağlı 1 çay kaşığı yenibahar']"
   ]
  },
  {
   "cell_type": "code",
   "execution_count": 27,
   "metadata": {
    "collapsed": true
   },
   "outputs": [],
   "source": [
    "recipe_name= 'Tavuk Haşlama'\n",
    "ingredient_list = [ '1 kg derisiz kemiksiz tavuk pirzola', '1 adet büyük boy soğan', '2 adet patates', \n",
    "                '2 adet orta boy havuç', 'Sıvıyağ', 'Tuz', '1 litre su' ]"
   ]
  },
  {
   "cell_type": "code",
   "execution_count": 30,
   "metadata": {
    "collapsed": true
   },
   "outputs": [],
   "source": [
    "recipe_name= 'Semizotu Yemeği (Hafif Ve Lezzetli)'\n",
    "ingredient_list = [ '1 bağ semizotu', '1 adet kuru soğan', '1 yemek kaşığı salça', 'Yarım çay bardağı sıvı yağ', \n",
    "                '2 yemek kaşığı kaşığı bulgur', '1,5 su bardağı su', '1 tatlı kaşığı tuz', 'Üzeri için:', \n",
    "                '3 diş sarımsak', '1 kase yoğurt' ]"
   ]
  },
  {
   "cell_type": "code",
   "execution_count": 33,
   "metadata": {
    "collapsed": true
   },
   "outputs": [],
   "source": [
    "recipe_name= 'Zeytinyağlı Kabak Kavurması'\n",
    "ingredient_list = [ '3 tane kabak', '3 tane domates', '4 tane yeşil biber', '2 tane orta boy soğan',\n",
    "                '1 çay bardağı zeytinyağı yağı', '2 diş sarımsak', '1 tatlı kaşığı salça', 'Tuz, kırmızı biber, karabiber' ]"
   ]
  },
  {
   "cell_type": "code",
   "execution_count": 36,
   "metadata": {
    "collapsed": true
   },
   "outputs": [],
   "source": [
    "recipe_name= 'Fırında Kolay Sebze Kebabı'\n",
    "ingredient_list = [ '1 adet kabak', '2 orta boy patates', '1 büyük patlıcan', '2 orta boy domates', '2 yeşil biber',\n",
    "                '1 kırmızı biber', '1-2 diş sarımsak', '1 tatlı kaşığı biber salçası', '1 tatlı kaşığı domates salçası',\n",
    "                'Tuz', '3 yemek kaşığı sıvı yağ', 'Karabiber', 'Kimyon', 'Kırmızı toz biber', 'Kekik' ]"
   ]
  },
  {
   "cell_type": "code",
   "execution_count": 39,
   "metadata": {
    "collapsed": true
   },
   "outputs": [],
   "source": [
    "recipe_name= 'Kara Lahana Diblesi'\n",
    "ingredient_list = [ '1 kg kara lahana', '2 orta boy soğan', 'Yarım çay bardağı pirinç', 'Üzerine;', '3 yemek kaşığı terayağı',\n",
    "                '1 yemek kaşığı sıvı yağ', 'Pulbiber, tuz' ]"
   ]
  },
  {
   "cell_type": "code",
   "execution_count": 4,
   "metadata": {},
   "outputs": [],
   "source": [
    "dict_t.update({ recipe_name: ingredient_list})"
   ]
  },
  {
   "cell_type": "code",
   "execution_count": 5,
   "metadata": {},
   "outputs": [
    {
     "data": {
      "text/plain": [
       "dict_keys(['Saç Kavurma'])"
      ]
     },
     "execution_count": 5,
     "metadata": {},
     "output_type": "execute_result"
    }
   ],
   "source": [
    "dict_t.keys()"
   ]
  },
  {
   "cell_type": "code",
   "execution_count": 6,
   "metadata": {},
   "outputs": [],
   "source": [
    "categories = {'Et yemekleri' : [' et ',' eti ', 'kıyma', 'kıyması'], 'Tavuk yemekleri' : ['tavuk'] ,   'Sebze yemekleri' : ['semiz', 'lahana', 'kabak'] } "
   ]
  },
  {
   "cell_type": "code",
   "execution_count": 7,
   "metadata": {},
   "outputs": [
    {
     "name": "stdout",
     "output_type": "stream",
     "text": [
      "Et yemekleri\n"
     ]
    }
   ],
   "source": [
    "#loop over values\n",
    "#search for the keywords\n",
    "#return name of the recipe\n",
    "for ingr_list in dict_t.values():\n",
    "    for ingr in ingr_list:\n",
    "        for key, value in categories.items():\n",
    "            if any(kw in ingr for kw in value):\n",
    "                print(key)"
   ]
  }
 ],
 "metadata": {
  "kernelspec": {
   "display_name": "Python 3",
   "language": "python",
   "name": "python3"
  },
  "language_info": {
   "codemirror_mode": {
    "name": "ipython",
    "version": 3
   },
   "file_extension": ".py",
   "mimetype": "text/x-python",
   "name": "python",
   "nbconvert_exporter": "python",
   "pygments_lexer": "ipython3",
   "version": "3.6.5"
  }
 },
 "nbformat": 4,
 "nbformat_minor": 2
}
